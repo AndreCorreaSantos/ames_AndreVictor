{
 "cells": [
  {
   "cell_type": "code",
   "execution_count": 27,
   "metadata": {},
   "outputs": [],
   "source": [
    "import pickle\n",
    "import pathlib\n",
    "\n",
    "import numpy as np\n",
    "import pandas as pd"
   ]
  },
  {
   "cell_type": "code",
   "execution_count": 28,
   "metadata": {},
   "outputs": [
    {
     "name": "stdout",
     "output_type": "stream",
     "text": [
      "c:\\Users\\marce\\Desktop\\Machine learning\\ames_AndreVictor\\data\n"
     ]
    }
   ],
   "source": [
    "DATA_DIR = pathlib.Path.cwd().parent / 'data'\n",
    "print(DATA_DIR)"
   ]
  },
  {
   "cell_type": "code",
   "execution_count": 29,
   "metadata": {},
   "outputs": [],
   "source": [
    "processed_file_path = DATA_DIR / 'processed' / 'ames_with_correct_types.pkl'\n",
    "\n",
    "with open(processed_file_path, 'rb') as file:\n",
    "    (\n",
    "        data,\n",
    "        continuous_variables,\n",
    "        discrete_variables,\n",
    "        ordinal_variables,\n",
    "        categorical_variables,\n",
    "    ) = pickle.load(file)"
   ]
  },
  {
   "cell_type": "code",
   "execution_count": 30,
   "metadata": {},
   "outputs": [],
   "source": [
    "numerical_data = data.select_dtypes('number').drop(columns='SalePrice').copy()\n",
    "target = data['SalePrice'].copy()"
   ]
  },
  {
   "cell_type": "code",
   "execution_count": 31,
   "metadata": {},
   "outputs": [
    {
     "name": "stdout",
     "output_type": "stream",
     "text": [
      "Correlation between Lot.Area and the target is 0.2665492203284296\n",
      "Correlation between log(Lot.Area) and the target is 0.3650759920066496\n",
      "\n",
      "Correlation between BsmtFin.SF.2 and the target is 0.005891397783530734\n",
      "Correlation between log(BsmtFin.SF.2) and the target is 0.1617833105405112\n",
      "\n",
      "Correlation between X2nd.Flr.SF and the target is 0.26937335658959116\n",
      "Correlation between log(X2nd.Flr.SF) and the target is 0.6085308920396726\n",
      "\n",
      "Correlation between Low.Qual.Fin.SF and the target is -0.03765976523775168\n",
      "Correlation between log(Low.Qual.Fin.SF) and the target is 0.1830498247176396\n",
      "\n",
      "Correlation between Enclosed.Porch and the target is -0.12878744150780538\n",
      "Correlation between log(Enclosed.Porch) and the target is 0.17917947313732152\n",
      "\n",
      "Correlation between X3Ssn.Porch and the target is 0.03222464935882309\n",
      "Correlation between log(X3Ssn.Porch) and the target is 0.15182811813431807\n",
      "\n",
      "Correlation between Screen.Porch and the target is 0.11215121356053082\n",
      "Correlation between log(Screen.Porch) and the target is 0.205617994150943\n",
      "\n",
      "Correlation between Pool.Area and the target is 0.06840324689815862\n",
      "Correlation between log(Pool.Area) and the target is -0.39238985266865106\n",
      "\n",
      "Correlation between Misc.Val and the target is -0.01569146314801322\n",
      "Correlation between log(Misc.Val) and the target is 0.23399108148553424\n",
      "\n"
     ]
    }
   ],
   "source": [
    "from scipy.stats import anderson\n",
    "for column, series in numerical_data.items():\n",
    "    # Calculate correlation between the two columns\n",
    "    corr = series.corr(target)\n",
    "\n",
    "    series = series.loc[series != 0]\n",
    "    log_series = series.apply(np.log)\n",
    "    corr_log = log_series.corr(target)\n",
    "    if abs(corr_log) > (abs(corr) + 0.05):\n",
    "        print(\"Correlation between\", column, \"and the target is\", corr)\n",
    "        print(\"Correlation between log(\"+column+\") and the target is\", corr_log)\n",
    "        print()\n",
    "for col in continuous_variables:\n",
    "    non_zero_values = data[data[col] != 0]\n",
    "\n",
    "    anderson_stat, anderson_critical_values, anderson_significance_levels = anderson(np.log(non_zero_values[col]))\n",
    "\n",
    "    if anderson_stat < anderson_critical_values[2]:  # Using a 5% significance level\n",
    "        print(f\"The data in {col} follows a lognormal distribution.\")"
   ]
  },
  {
   "cell_type": "code",
   "execution_count": 32,
   "metadata": {},
   "outputs": [
    {
     "name": "stdout",
     "output_type": "stream",
     "text": [
      "Correlation between Lot.Area and the target is 0.2665492203284296\n",
      "Correlation between log(Lot.Area) and the target is 0.3650759920066496\n",
      "\n",
      "Correlation between BsmtFin.SF.2 and the target is 0.005891397783530734\n",
      "Correlation between log(BsmtFin.SF.2) and the target is 0.1617833105405112\n",
      "\n",
      "Correlation between X2nd.Flr.SF and the target is 0.26937335658959116\n",
      "Correlation between log(X2nd.Flr.SF) and the target is 0.6085308920396726\n",
      "\n",
      "Correlation between Low.Qual.Fin.SF and the target is -0.03765976523775168\n",
      "Correlation between log(Low.Qual.Fin.SF) and the target is 0.1830498247176396\n",
      "\n",
      "Correlation between Enclosed.Porch and the target is -0.12878744150780538\n",
      "Correlation between log(Enclosed.Porch) and the target is 0.17917947313732152\n",
      "\n",
      "Correlation between X3Ssn.Porch and the target is 0.03222464935882309\n",
      "Correlation between log(X3Ssn.Porch) and the target is 0.15182811813431807\n",
      "\n",
      "Correlation between Screen.Porch and the target is 0.11215121356053082\n",
      "Correlation between log(Screen.Porch) and the target is 0.205617994150943\n",
      "\n",
      "Correlation between Pool.Area and the target is 0.06840324689815862\n",
      "Correlation between log(Pool.Area) and the target is -0.39238985266865106\n",
      "\n",
      "Correlation between Misc.Val and the target is -0.01569146314801322\n",
      "Correlation between log(Misc.Val) and the target is 0.23399108148553424\n",
      "\n"
     ]
    }
   ],
   "source": [
    "for column, series in numerical_data.items():\n",
    "    # Calculate correlation between the two columns\n",
    "    corr = series.corr(target)\n",
    "\n",
    "    series = series.loc[series != 0]\n",
    "    log_series = series.apply(np.log)\n",
    "    corr_log = log_series.corr(target)\n",
    "    if abs(corr_log) > (abs(corr) + 0.05):\n",
    "        print(\"Correlation between\", column, \"and the target is\", corr)\n",
    "        print(\"Correlation between log(\"+column+\") and the target is\", corr_log)\n",
    "        print()"
   ]
  }
 ],
 "metadata": {
  "kernelspec": {
   "display_name": "Python 3",
   "language": "python",
   "name": "python3"
  },
  "language_info": {
   "codemirror_mode": {
    "name": "ipython",
    "version": 3
   },
   "file_extension": ".py",
   "mimetype": "text/x-python",
   "name": "python",
   "nbconvert_exporter": "python",
   "pygments_lexer": "ipython3",
   "version": "3.9.13"
  }
 },
 "nbformat": 4,
 "nbformat_minor": 2
}
